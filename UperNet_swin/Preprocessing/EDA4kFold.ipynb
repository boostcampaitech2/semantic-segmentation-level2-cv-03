{
 "cells": [
  {
   "cell_type": "code",
   "execution_count": 1,
   "metadata": {},
   "outputs": [
    {
     "name": "stdout",
     "output_type": "stream",
     "text": [
      "dict_keys(['info', 'licenses', 'images', 'categories', 'annotations'])\n",
      "dict_keys(['license', 'url', 'file_name', 'height', 'width', 'date_captured', 'id'])\n",
      "dict_keys(['id', 'image_id', 'category_id', 'segmentation', 'area', 'bbox', 'iscrowd'])\n",
      "[{'id': 1, 'name': 'General trash', 'supercategory': 'General trash'}, {'id': 2, 'name': 'Paper', 'supercategory': 'Paper'}, {'id': 3, 'name': 'Paper pack', 'supercategory': 'Paper pack'}, {'id': 4, 'name': 'Metal', 'supercategory': 'Metal'}, {'id': 5, 'name': 'Glass', 'supercategory': 'Glass'}, {'id': 6, 'name': 'Plastic', 'supercategory': 'Plastic'}, {'id': 7, 'name': 'Styrofoam', 'supercategory': 'Styrofoam'}, {'id': 8, 'name': 'Plastic bag', 'supercategory': 'Plastic bag'}, {'id': 9, 'name': 'Battery', 'supercategory': 'Battery'}, {'id': 10, 'name': 'Clothing', 'supercategory': 'Clothing'}]\n"
     ]
    }
   ],
   "source": [
    "import os\n",
    "from tqdm import tqdm\n",
    "import numpy as np\n",
    "from collections import Counter\n",
    "import json\n",
    "import matplotlib.pyplot as plt\n",
    "%matplotlib inline\n",
    "%config InlineBackend.figure_format='retina'\n",
    "\n",
    "train_all_path = '/opt/ml/segmentation/input/data/train_all.json'\n",
    "train_all = json.load(open(train_all_path, 'r'))\n",
    "\n",
    "images = train_all['images']\n",
    "annots = train_all['annotations']\n",
    "print(train_all.keys())\n",
    "print(images[0].keys())\n",
    "print(annots[0].keys())\n",
    "print(train_all['categories'])"
   ]
  },
  {
   "cell_type": "code",
   "execution_count": null,
   "metadata": {},
   "outputs": [],
   "source": []
  },
  {
   "cell_type": "code",
   "execution_count": 2,
   "metadata": {},
   "outputs": [
    {
     "name": "stdout",
     "output_type": "stream",
     "text": [
      "['1', '2', '3', '4', '5', '6', '7', '8', '9', '10']\n",
      "[2782, 9311, 659, 562, 610, 3090, 1343, 7643, 63, 177]\n"
     ]
    }
   ],
   "source": [
    "cats = [x['category_id'] for x in annots]\n",
    "cnt = Counter(cats)\n",
    "\n",
    "cat_dist = sorted(cnt.items(), key=lambda x: x[0])\n",
    "xs = [str(x[0]) for x in cat_dist]\n",
    "ys = [x[1] for x in cat_dist]\n",
    "print(xs)\n",
    "print(ys)\n",
    "# plt.barh(xs, ys)"
   ]
  },
  {
   "cell_type": "code",
   "execution_count": 3,
   "metadata": {},
   "outputs": [],
   "source": [
    "id2fname = []\n",
    "images = sorted(images, key=lambda x: x['id'])\n",
    "\n",
    "# print(images)\n",
    "for img in images:\n",
    "    id2fname.append(img['file_name'])"
   ]
  },
  {
   "cell_type": "code",
   "execution_count": 4,
   "metadata": {},
   "outputs": [
    {
     "name": "stderr",
     "output_type": "stream",
     "text": [
      "100%|██████████| 26240/26240 [00:00<00:00, 418616.78it/s]\n"
     ]
    }
   ],
   "source": [
    "file_annots = {}\n",
    "for ann in tqdm(annots):\n",
    "    fname = id2fname[ann['image_id']]\n",
    "\n",
    "    if fname not in file_annots.keys():\n",
    "        file_annots[fname] = np.array([0 for _ in range(10)])\n",
    "    file_annots[fname][ann['category_id']-1] += 1"
   ]
  },
  {
   "cell_type": "code",
   "execution_count": null,
   "metadata": {},
   "outputs": [],
   "source": []
  },
  {
   "cell_type": "code",
   "execution_count": 5,
   "metadata": {},
   "outputs": [],
   "source": [
    "class Pocket:\n",
    "    def __init__(self):\n",
    "        self.ranks = []\n",
    "        for i in tqdm(range(10)):\n",
    "            sorted_fname = sorted(file_annots.items(), key=lambda x: x[1][i])\n",
    "            self.ranks.append(sorted_fname)\n",
    "    \n",
    "    def get_file(self, cls: int):\n",
    "        fannot = self.ranks[cls].pop()\n",
    "        for i in range(10):\n",
    "            for idx, item in enumerate(self.ranks[i]):\n",
    "                if item[0] == fannot[0]:\n",
    "                    self.ranks[i].pop(idx)\n",
    "        return fannot\n",
    "\n",
    "    def is_empty(self):\n",
    "        assert len(set( [len(x) for x in self.ranks] )) == 1\n",
    "        return len(self.ranks[0]) == 0"
   ]
  },
  {
   "cell_type": "code",
   "execution_count": null,
   "metadata": {},
   "outputs": [],
   "source": []
  },
  {
   "cell_type": "code",
   "execution_count": 6,
   "metadata": {},
   "outputs": [],
   "source": [
    "base_dist = ys\n",
    "def get_inferior(curr_dist):\n",
    "    diff = (base_dist - curr_dist) / base_dist\n",
    "    return diff.argmax()"
   ]
  },
  {
   "cell_type": "code",
   "execution_count": 7,
   "metadata": {},
   "outputs": [
    {
     "name": "stderr",
     "output_type": "stream",
     "text": [
      "100%|██████████| 10/10 [00:00<00:00, 674.55it/s]\n"
     ]
    },
    {
     "name": "stdout",
     "output_type": "stream",
     "text": [
      "[  541  1835   130   109   120   597   261  1506    12    34 ]\n",
      "[  556  1850   133   113   122   615   268  1518    13    36 ]\n",
      "[  539  1821   127   109   118   600   267  1492    12    34 ]\n",
      "[  585  1937   137   117   127   650   278  1588    13    37 ]\n",
      "[  561  1868   132   114   123   628   269  1539    13    36 ]\n",
      "654  654  655  654  654  \n",
      "3271\n"
     ]
    },
    {
     "data": {
      "image/png": "[encoded data removed]",
      "text/plain": "<Figure size 432x288 with 5 Axes>"
     },
     "metadata": {
      "image/png": {
       "height": 243,
       "width": 363
      },
      "needs_background": "light"
     },
     "output_type": "display_data"
    }
   ],
   "source": [
    "import random\n",
    "pocket = Pocket()\n",
    "\n",
    "n_fold = 5\n",
    "folds = [{'fname': [], 'dist': np.array([0 for _ in range(10)])} for _ in range(n_fold)]\n",
    "\n",
    "while not pocket.is_empty():\n",
    "    turns = [x for x in range(n_fold)]\n",
    "    random.shuffle(turns)\n",
    "    for _ in range(n_fold):\n",
    "        i = turns.pop()\n",
    "        if pocket.is_empty():\n",
    "            break\n",
    "\n",
    "        inferior_cls = get_inferior(folds[i]['dist'])\n",
    "        fname, dist = pocket.get_file(inferior_cls)\n",
    "        folds[i]['fname'].append(fname)\n",
    "        folds[i]['dist'] += dist\n",
    "\n",
    "row, col = 1,n_fold\n",
    "\n",
    "for i in range(col):\n",
    "    plt.rcParams['xtick.labelsize'] = 5\n",
    "    plt.rcParams['ytick.labelsize'] = 3\n",
    "    plt.subplot(row, col, i+1)\n",
    "    plt.bar(xs, folds[i]['dist'])\n",
    "\n",
    "for i in range(n_fold):\n",
    "    print('[', end='')\n",
    "    for j in range(10):\n",
    "        print(f\"{folds[i]['dist'][j]: >5}\", end=' ')\n",
    "    print(']')\n",
    "\n",
    "sum_files = 0\n",
    "for i in range(n_fold):\n",
    "    print(len(folds[i]['fname']), end='  ')\n",
    "    sum_files += len(folds[i]['fname'])\n",
    "\n",
    "print()\n",
    "print(sum_files)\n"
   ]
  },
  {
   "cell_type": "code",
   "execution_count": null,
   "metadata": {},
   "outputs": [],
   "source": []
  },
  {
   "cell_type": "code",
   "execution_count": 8,
   "metadata": {},
   "outputs": [
    {
     "name": "stderr",
     "output_type": "stream",
     "text": [
      "fold1 valid: 100%|██████████| 654/654 [00:40<00:00, 16.34it/s]\n",
      "fold1 train: 100%|██████████| 4/4 [02:26<00:00, 36.65s/it]\n",
      "fold2 valid: 100%|██████████| 654/654 [00:37<00:00, 17.34it/s]\n",
      "fold2 train: 100%|██████████| 4/4 [02:39<00:00, 39.87s/it]\n",
      "fold3 valid: 100%|██████████| 655/655 [00:40<00:00, 16.10it/s]\n",
      "fold3 train: 100%|██████████| 4/4 [02:33<00:00, 38.29s/it]\n",
      "fold4 valid: 100%|██████████| 654/654 [00:39<00:00, 16.73it/s]\n",
      "fold4 train: 100%|██████████| 4/4 [02:34<00:00, 38.53s/it]\n",
      "fold5 valid: 100%|██████████| 654/654 [00:40<00:00, 16.03it/s]\n",
      "fold5 train: 100%|██████████| 4/4 [02:31<00:00, 37.91s/it]\n"
     ]
    }
   ],
   "source": [
    "\n",
    "imsrc = '/opt/ml/segmentation/input/data'\n",
    "masrc_tra = '/opt/ml/segmentation/input/data/masks/mode_resampled'\n",
    "masrc_val = '/opt/ml/segmentation/input/data/masks/origin'\n",
    "\n",
    "dst = '/opt/ml/segmentation/input/FOLDS/mmseg_5fold_ver3_resam'\n",
    "\n",
    "if not os.path.isdir(dst):\n",
    "    for i in range(1, n_fold+1):\n",
    "        os.makedirs( os.path.join(dst, f'fold{i}', 'images', 'training') )\n",
    "        os.makedirs( os.path.join(dst, f'fold{i}', 'images', 'validation') )\n",
    "        os.makedirs( os.path.join(dst, f'fold{i}', 'annotations', 'training') )\n",
    "        os.makedirs( os.path.join(dst, f'fold{i}', 'annotations', 'validation') )\n",
    "\n",
    "for f in range(n_fold):\n",
    "    curr_dst = os.path.join(dst, f'fold{f+1}')\n",
    "    val = f\n",
    "    train = [x for x in range(n_fold) if x!=f]\n",
    "\n",
    "    for fname in tqdm(folds[val]['fname'], desc=f'fold{f+1} valid'):\n",
    "        # print(f\"cp {os.path.join(imsrc, fname)} {os.path.join(dst, f'fold{f+1}', 'images', 'validation', fname.replace('/', '+'))}\")\n",
    "        rep_fname = fname.replace('/', '+')\n",
    "        os.system(f\"cp {os.path.join(imsrc, fname)} {os.path.join(curr_dst, 'images', 'validation', rep_fname)}\")\n",
    "        os.system(f\"cp {os.path.join(masrc_val, rep_fname.replace('jpg', 'png'))} {os.path.join(curr_dst, 'annotations', 'validation', rep_fname.replace('jpg', 'png'))}\")\n",
    "    for tr in tqdm(train, desc=f'fold{f+1} train'):\n",
    "        for fname in folds[tr]['fname']:\n",
    "            rep_fname = fname.replace('/', '+')\n",
    "            # print(f\"cp {os.path.join(imsrc, fname)} {os.path.join(dst, 'images', 'training', fname)}\")\n",
    "            os.system(f\"cp {os.path.join(imsrc, fname)} {os.path.join(curr_dst, 'images', 'training', rep_fname)}\")\n",
    "            os.system(f\"cp {os.path.join(masrc_tra, rep_fname.replace('jpg', 'png'))} {os.path.join(curr_dst, 'annotations', 'training', rep_fname.replace('jpg', 'png'))}\")"
   ]
  },
  {
   "cell_type": "code",
   "execution_count": 10,
   "metadata": {},
   "outputs": [
    {
     "name": "stdout",
     "output_type": "stream",
     "text": [
      "3271\n",
      "3271\n",
      "3271\n",
      "3271\n",
      "3271\n"
     ]
    }
   ],
   "source": [
    "from glob import glob\n",
    "for i in range(n_fold):\n",
    "    print(len(glob(os.path.join(dst, f'fold{i+1}', '**/**/*.jpg'))))"
   ]
  },
  {
   "cell_type": "code",
   "execution_count": null,
   "metadata": {},
   "outputs": [],
   "source": []
  },
  {
   "cell_type": "code",
   "execution_count": null,
   "metadata": {},
   "outputs": [],
   "source": []
  }
 ],
 "metadata": {
  "kernelspec": {
   "display_name": "Python 3.7.11 64-bit",
   "name": "python3711jvsc74a57bd08e5f15054793da42435bf5fab16ae8e9de46dcdb34cd5863606910f8a168e642"
  },
  "language_info": {
   "codemirror_mode": {
    "name": "ipython",
    "version": 3
   },
   "file_extension": ".py",
   "mimetype": "text/x-python",
   "name": "python",
   "nbconvert_exporter": "python",
   "pygments_lexer": "ipython3",
   "version": "3.7.11"
  },
  "orig_nbformat": 2
 },
 "nbformat": 4,
 "nbformat_minor": 2
}