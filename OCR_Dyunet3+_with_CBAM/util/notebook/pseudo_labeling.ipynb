{
 "cells": [
  {
   "cell_type": "code",
   "execution_count": 1,
   "metadata": {},
   "outputs": [],
   "source": [
    "import os\n",
    "from glob import glob\n",
    "from tqdm import tqdm\n",
    "import cv2\n",
    "import pickle\n",
    "import numpy as np"
   ]
  },
  {
   "cell_type": "code",
   "execution_count": 2,
   "metadata": {},
   "outputs": [
    {
     "name": "stderr",
     "output_type": "stream",
     "text": [
      "100%|██████████| 5/5 [03:16<00:00, 39.34s/it]\n"
     ]
    }
   ],
   "source": [
    "\n",
    "MODEL = 'OCR_dyunetCBAM_swinB.py' # model config 경로\n",
    "PATHS = ['/opt/ml/segmentation/moon/mmsegmentation/work_dirs/OCR_dyunetCBAM_swinB_cv1',\n",
    "        '/opt/ml/segmentation/moon/mmsegmentation/work_dirs/OCR_dyunetCBAM_swinB_cv2',\n",
    "        '/opt/ml/segmentation/moon/mmsegmentation/work_dirs/OCR_dyunetCBAM_swinB_cv3',\n",
    "        '/opt/ml/segmentation/moon/mmsegmentation/work_dirs/OCR_dyunetCBAM_swinB_cv4',\n",
    "        '/opt/ml/segmentation/moon/mmsegmentation/work_dirs/OCR_dyunetCBAM_swinB_cv5',\n",
    "        # '/opt/ml/segmentation/moon/mmsegmentation/work_dirs/pseudo_OCR_dyunetCBAM_swinB_smallMS_cv1'\n",
    "] # 모델 저장된 폴더\n",
    "\n",
    "weights = [0.743,0.756,0.754,0.758,0.748] # lb score\n",
    "assert len(weights)==len(PATHS)\n",
    "\n",
    "LOGIT_PATHS = [glob(os.path.join(path,'output*')) for path in PATHS]\n",
    "\n",
    "logits=None\n",
    "for idx,logit_path in enumerate(tqdm(LOGIT_PATHS)):\n",
    "    assert len(logit_path)==1\n",
    "    logit_path = logit_path[0]\n",
    "\n",
    "    with open(logit_path,'rb') as f:\n",
    "        logit = np.array(pickle.load(f))\n",
    "\n",
    "    if idx==0:\n",
    "        logits=logit\n",
    "    else:\n",
    "        logits = logits + logit\n",
    "        \n",
    "logits/=len(LOGIT_PATHS)"
   ]
  },
  {
   "cell_type": "markdown",
   "metadata": {},
   "source": [
    "---\n",
    "추가 output"
   ]
  },
  {
   "cell_type": "code",
   "execution_count": 3,
   "metadata": {},
   "outputs": [],
   "source": [
    "path = glob(os.path.join('/opt/ml/segmentation/moon/mmsegmentation/work_dirs/pseudo_OCR_dyunetCBAM_swinB_cv1','output*'))\n",
    "assert len(path)==1\n",
    "logit_path = path[0]\n",
    "\n",
    "with open(logit_path,'rb') as f:\n",
    "    logit = np.array(pickle.load(f))\n",
    "\n",
    "logits = logits+logit\n",
    "logits/=2"
   ]
  },
  {
   "cell_type": "markdown",
   "metadata": {},
   "source": [
    "---"
   ]
  },
  {
   "cell_type": "code",
   "execution_count": 4,
   "metadata": {},
   "outputs": [
    {
     "name": "stderr",
     "output_type": "stream",
     "text": [
      "100%|██████████| 819/819 [00:26<00:00, 31.10it/s]\n"
     ]
    }
   ],
   "source": [
    "output = [[] for _ in range(len(logits))]\n",
    "for idx in tqdm(range(len(logits))):\n",
    "    output[idx] = logits[idx].squeeze().argmax(axis=0)"
   ]
  },
  {
   "cell_type": "code",
   "execution_count": 9,
   "metadata": {},
   "outputs": [],
   "source": [
    "pseudo_path = '/opt/ml/segmentation/moon/dataset/annotations/pseudo/'\n",
    "DATAPATH = '/opt/ml/segmentation/moon/dataset/images/test'\n",
    "file_names = sorted([ os.path.splitext(path)[0] for path in os.listdir(DATAPATH)])\n",
    "\n",
    "for file_name,img in zip(file_names,output):\n",
    "    file_path = os.path.join(pseudo_path,file_name+'.png')\n",
    "    cv2.imwrite(file_path,img)"
   ]
  },
  {
   "cell_type": "markdown",
   "metadata": {},
   "source": [
    "---"
   ]
  },
  {
   "cell_type": "code",
   "execution_count": 5,
   "metadata": {},
   "outputs": [],
   "source": [
    "import albumentations as A\n",
    "import pandas as pd"
   ]
  },
  {
   "cell_type": "code",
   "execution_count": 6,
   "metadata": {},
   "outputs": [
    {
     "name": "stderr",
     "output_type": "stream",
     "text": [
      "819it [05:57,  2.29it/s]\n"
     ]
    }
   ],
   "source": [
    "size = 256\n",
    "transform = A.Compose([A.Resize(size, size)])\n",
    "\n",
    "DATAPATH = '/opt/ml/segmentation/moon/dataset/images/test'\n",
    "file_names = sorted([ os.path.splitext(path)[0] for path in os.listdir(DATAPATH)])\n",
    "\n",
    "preds_array = np.empty((0,size*size),dtype=np.int64)\n",
    "\n",
    "for idx,out in tqdm(enumerate(output)):\n",
    "    image = np.zeros((1,size,size))\n",
    "    transformed = transform(image=image,mask=out)\n",
    "    mask = transformed['mask']\n",
    "    \n",
    "    mask = mask.reshape(-1,size*size).astype(int)\n",
    "    preds_array = np.vstack((preds_array,mask))"
   ]
  },
  {
   "cell_type": "code",
   "execution_count": 7,
   "metadata": {},
   "outputs": [],
   "source": [
    "NAME = 'OCR_dyunetCBAM_swinB_cv1-5+pseudo_cv1'"
   ]
  },
  {
   "cell_type": "code",
   "execution_count": 8,
   "metadata": {},
   "outputs": [],
   "source": [
    "# sample_submisson.csv 열기\n",
    "tmp_submission = pd.read_csv('/opt/ml/segmentation/baseline_code/submission/sample_submission.csv', index_col=None)\n",
    "\n",
    "# PredictionString 대입\n",
    "for file_name, string in zip(file_names, preds_array):\n",
    "    file_name = '/'.join(file_name.split('+')) +'.jpg'\n",
    "    tmp_submission = tmp_submission.append({\"image_id\" : file_name, \"PredictionString\" : ' '.join(str(e) for e in string.tolist())}, \n",
    "                                   ignore_index=True)\n",
    "\n",
    "# submission.csv로 저장\n",
    "\n",
    "# 순서도 같아야 채점이 되기 때문에 sample_submission이 필요\n",
    "sample = pd.read_csv('/opt/ml/segmentation/moon/submission/sample_submission.csv', index_col=None)\n",
    "submission = pd.read_csv('/opt/ml/segmentation/baseline_code/submission/sample_submission.csv', index_col=None)\n",
    "for image_id in sample['image_id'].tolist():\n",
    "    prediction_string = tmp_submission[tmp_submission['image_id']==image_id]['PredictionString'].iloc[0]\n",
    "    submission = submission.append({\"image_id\" : image_id, \"PredictionString\" : prediction_string }, \n",
    "                                   ignore_index=True)\n",
    "\n",
    "# submission.csv로 저장\n",
    "submission.to_csv(f\"./submission/ensemble_{NAME}.csv\", index=False)"
   ]
  }
 ],
 "metadata": {
  "kernelspec": {
   "display_name": "mmseg",
   "language": "python",
   "name": "mmseg"
  },
  "orig_nbformat": 4
 },
 "nbformat": 4,
 "nbformat_minor": 2
}
