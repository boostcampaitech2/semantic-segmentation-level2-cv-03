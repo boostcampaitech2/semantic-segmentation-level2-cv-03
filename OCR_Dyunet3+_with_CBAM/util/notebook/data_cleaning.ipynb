{
 "cells": [
  {
   "cell_type": "code",
   "execution_count": 1,
   "metadata": {},
   "outputs": [],
   "source": [
    "import mmcv\n",
    "import torch\n",
    "from mmcv.parallel import MMDataParallel, MMDistributedDataParallel\n",
    "from mmcv.runner import (get_dist_info, init_dist, load_checkpoint,\n",
    "                         wrap_fp16_model)\n",
    "from mmcv.utils import DictAction\n",
    "from mmcv import Config\n",
    "from mmseg.apis import multi_gpu_test, single_gpu_test\n",
    "from mmseg.datasets import build_dataloader, build_dataset\n",
    "from mmseg.models import build_segmentor\n",
    "from glob import glob\n",
    "\n",
    "import matplotlib.pyplot as plt\n",
    "import albumentations as A\n",
    "from mmcv import Config\n",
    "import os\n",
    "import numpy as np\n",
    "from tqdm import tqdm\n",
    "import pandas as pd"
   ]
  },
  {
   "cell_type": "code",
   "execution_count": 2,
   "metadata": {},
   "outputs": [],
   "source": [
    "MODEL = 'unet_swinB.py' # model config 경로\n",
    "PATH = '/opt/ml/segmentation/moon/mmsegmentation/work_dirs/unet_swinB' # 모델 저장된 폴더\n",
    "BEST_CHECKPOINT = glob(os.path.join(PATH,'best_*'))\n",
    "#BEST_CHECKPOINT = ['/opt/ml/segmentation/moon/mmsegmentation/work_dirs/dyhead_swinB/epoch_50.pth']\n",
    "assert len(BEST_CHECKPOINT)==1\n",
    "BEST_CHECKPOINT = BEST_CHECKPOINT[0]\n",
    "\n",
    "cfg =Config.fromfile(os.path.join(PATH,MODEL))\n",
    "cfg.data.test.test_mode = True"
   ]
  },
  {
   "cell_type": "code",
   "execution_count": 3,
   "metadata": {},
   "outputs": [],
   "source": [
    "cfg.data.test['img_dir'] = 'images/train'\n",
    "cfg.data.test['ann_dir'] = 'annotations/train'\n",
    "cfg.data.test['pipeline'][1]['flip']=True\n",
    "# size_min = 512\n",
    "# size_max = 1024\n",
    "# multi_scale_list = [(x,x) for x in range(size_min, size_max+1, 128)]\n",
    "# cfg.data.test.pipeline[1]['img_scale'] = multi_scale_list # Resize"
   ]
  },
  {
   "cell_type": "code",
   "execution_count": 4,
   "metadata": {},
   "outputs": [
    {
     "name": "stderr",
     "output_type": "stream",
     "text": [
      "2021-10-26 22:14:48,204 - mmseg - INFO - Loaded 2617 images\n"
     ]
    }
   ],
   "source": [
    "test_dataset = build_dataset(cfg.data.test)\n",
    "test_loader = build_dataloader(\n",
    "        test_dataset,\n",
    "        samples_per_gpu=1,\n",
    "        workers_per_gpu=cfg.data.workers_per_gpu,\n",
    "        dist=False,\n",
    "        shuffle=False)"
   ]
  },
  {
   "cell_type": "code",
   "execution_count": 5,
   "metadata": {},
   "outputs": [
    {
     "name": "stdout",
     "output_type": "stream",
     "text": [
      "Use load_from_local loader\n"
     ]
    }
   ],
   "source": [
    "# build model\n",
    "cfg.model.pretrained = None\n",
    "cfg.model.train_cfg = None\n",
    "\n",
    "checkpoint_path = BEST_CHECKPOINT\n",
    "\n",
    "model = build_segmentor(cfg.model, test_cfg=cfg.get('test_cfg'))\n",
    "checkpoint = load_checkpoint(model, checkpoint_path, map_location='cpu')"
   ]
  },
  {
   "cell_type": "code",
   "execution_count": 6,
   "metadata": {},
   "outputs": [],
   "source": [
    "model.CLASSES = checkpoint['meta']['CLASSES']\n",
    "model.PALETTE = checkpoint['meta']['PALETTE']\n",
    "model = MMDataParallel(model.cuda(), device_ids=[0])"
   ]
  },
  {
   "cell_type": "code",
   "execution_count": 7,
   "metadata": {},
   "outputs": [
    {
     "name": "stdout",
     "output_type": "stream",
     "text": [
      "[                                ] 2/2617, 3.5 task/s, elapsed: 1s, ETA:   753s"
     ]
    },
    {
     "name": "stderr",
     "output_type": "stream",
     "text": [
      "/opt/conda/envs/mmseg/lib/python3.7/site-packages/torch/nn/functional.py:3455: UserWarning: Default upsampling behavior when mode=bilinear is changed to align_corners=False since 0.4.0. Please specify align_corners=True if the old behavior is desired. See the documentation of nn.Upsample for details.\n",
      "  \"See the documentation of nn.Upsample for details.\".format(mode)\n"
     ]
    },
    {
     "name": "stdout",
     "output_type": "stream",
     "text": [
      "[>>>>>>>>>>>>>>>>>>>>>>>>>>>] 2617/2617, 7.5 task/s, elapsed: 350s, ETA:     0s"
     ]
    }
   ],
   "source": [
    "# encoder_decoder.py에서 출력값 변경\n",
    "output = single_gpu_test(model, test_loader) # 819x11x512x512"
   ]
  },
  {
   "cell_type": "markdown",
   "metadata": {},
   "source": [
    "---"
   ]
  },
  {
   "cell_type": "markdown",
   "metadata": {},
   "source": [
    "# Data Cleaning"
   ]
  },
  {
   "cell_type": "code",
   "execution_count": 9,
   "metadata": {},
   "outputs": [],
   "source": [
    "import cv2\n",
    "import matplotlib.pyplot as plt\n",
    "from PIL import Image"
   ]
  },
  {
   "cell_type": "code",
   "execution_count": 13,
   "metadata": {},
   "outputs": [],
   "source": [
    "score_list=[]\n",
    "output = np.array(output)\n",
    "output = torch.from_numpy(output)\n",
    "\n",
    "scores,a = output.max(axis=1)\n",
    "general_trash_scores = scores[(a==1)]"
   ]
  },
  {
   "cell_type": "code",
   "execution_count": 82,
   "metadata": {},
   "outputs": [
    {
     "data": {
      "image/png": "[encoded data removed]",
      "text/plain": [
       "<Figure size 432x288 with 1 Axes>"
      ]
     },
     "metadata": {
      "needs_background": "light"
     },
     "output_type": "display_data"
    }
   ],
   "source": [
    "plt.hist(general_trash_scores.flatten(),bins=100,cumulative=True)\n",
    "plt.show()"
   ]
  },
  {
   "cell_type": "code",
   "execution_count": 28,
   "metadata": {},
   "outputs": [
    {
     "data": {
      "image/png": "[encoded data removed]",
      "text/plain": [
       "<Figure size 432x288 with 1 Axes>"
      ]
     },
     "metadata": {
      "needs_background": "light"
     },
     "output_type": "display_data"
    }
   ],
   "source": [
    "plt.hist(scores.flatten(),bins=100,cumulative=True)\n",
    "plt.show()"
   ]
  },
  {
   "cell_type": "code",
   "execution_count": 103,
   "metadata": {},
   "outputs": [
    {
     "name": "stdout",
     "output_type": "stream",
     "text": [
      "1.1000072332787276\n"
     ]
    }
   ],
   "source": [
    "#print((scores<0.5).sum()/len(scores) * 100)\n",
    "print((general_trash_scores<0.5).sum()/len(general_trash_scores) * 100)"
   ]
  },
  {
   "cell_type": "code",
   "execution_count": 109,
   "metadata": {},
   "outputs": [
    {
     "name": "stderr",
     "output_type": "stream",
     "text": [
      "2617it [00:24, 108.29it/s]\n"
     ]
    }
   ],
   "source": [
    "threshold = 0.5\n",
    "clean_path = '/opt/ml/segmentation/moon/dataset/annotations/clean_train/'\n",
    "origin_path = '/opt/ml/segmentation/moon/dataset/annotations/train/'\n",
    "img_infos = test_dataset.img_infos\n",
    "file_names = [img_info['ann']['seg_map'] for img_info in img_infos]\n",
    "for file_name,seg_logit in tqdm(zip(file_names,output)):\n",
    "    origin_ann_path = os.path.join(origin_path,file_name)\n",
    "    clean_ann_path = os.path.join(clean_path,file_name)\n",
    "\n",
    "    origin_ann = np.array(Image.open(origin_ann_path)) # 512 x 512\n",
    "    clean_mask = np.ones_like(origin_ann)\n",
    "    ann_score = seg_logit.max(axis=0)[0] # 512 x 512\n",
    "    clean_mask[ann_score<threshold]=0\n",
    "\n",
    "    clean_ann = origin_ann * clean_mask\n",
    "\n",
    "    cv2.imwrite(clean_ann_path,clean_ann)"
   ]
  }
 ],
 "metadata": {
  "kernelspec": {
   "display_name": "mmseg",
   "language": "python",
   "name": "mmseg"
  },
  "orig_nbformat": 4
 },
 "nbformat": 4,
 "nbformat_minor": 2
}
