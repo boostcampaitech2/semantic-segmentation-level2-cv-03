{
 "cells": [
  {
   "cell_type": "code",
   "execution_count": 2,
   "metadata": {},
   "outputs": [
    {
     "name": "stdout",
     "output_type": "stream",
     "text": [
      "Collecting git+https://github.com/lucasb-eyer/pydensecrf.git\n",
      "  Cloning https://github.com/lucasb-eyer/pydensecrf.git to /tmp/pip-req-build-8fm54g0i\n",
      "  Running command git clone -q https://github.com/lucasb-eyer/pydensecrf.git /tmp/pip-req-build-8fm54g0i\n",
      "  Installing build dependencies ... \u001b[?25ldone\n",
      "\u001b[?25h  Getting requirements to build wheel ... \u001b[?25ldone\n",
      "\u001b[?25h    Preparing wheel metadata ... \u001b[?25ldone\n",
      "\u001b[?25hBuilding wheels for collected packages: pydensecrf\n",
      "  Building wheel for pydensecrf (PEP 517) ... \u001b[?25ldone\n",
      "\u001b[?25h  Created wheel for pydensecrf: filename=pydensecrf-1.0rc2-cp37-cp37m-linux_x86_64.whl size=2898502 sha256=421defa1bb35cf57acdeefa9225c945d985822b7e8f4298ae4b95d0d1cc3d660\n",
      "  Stored in directory: /tmp/pip-ephem-wheel-cache-4pme5udy/wheels/c1/7e/80/99adc0b2f215180486e24dd9c700028343ba5f566514a0ef05\n",
      "Successfully built pydensecrf\n",
      "Installing collected packages: pydensecrf\n",
      "Successfully installed pydensecrf-1.0rc2\n"
     ]
    }
   ],
   "source": [
    "#!apt-get install g++\n",
    "#!pip install git+https://github.com/lucasb-eyer/pydensecrf.git"
   ]
  },
  {
   "cell_type": "code",
   "execution_count": 4,
   "metadata": {},
   "outputs": [],
   "source": [
    "import numpy as np\n",
    "import pydensecrf.densecrf as dcrf\n",
    "import pydensecrf.utils as utils\n",
    "\n",
    "def dense_crf(img, output_probs):\n",
    "    MAX_ITER = 50\n",
    "    POS_W = 3\n",
    "    POS_XY_STD = 3\n",
    "    Bi_W = 4\n",
    "    Bi_XY_STD = 49\n",
    "    Bi_RGB_STD = 5\n",
    "\n",
    "    c = output_probs.shape[0]\n",
    "    h = output_probs.shape[1]\n",
    "    w = output_probs.shape[2]\n",
    "\n",
    "    U = utils.unary_from_softmax(output_probs)\n",
    "    U = np.ascontiguousarray(U)\n",
    "\n",
    "    img = np.ascontiguousarray(img)\n",
    "\n",
    "    d = dcrf.DenseCRF2D(w, h, c)\n",
    "    d.setUnaryEnergy(U)\n",
    "    d.addPairwiseGaussian(sxy=POS_XY_STD, compat=POS_W)\n",
    "    d.addPairwiseBilateral(sxy=Bi_XY_STD, srgb=Bi_RGB_STD, rgbim=img, compat=Bi_W)\n",
    "\n",
    "    Q = d.inference(MAX_ITER)\n",
    "    Q = np.array(Q).reshape((c, h, w))\n",
    "    return Q\n"
   ]
  },
  {
   "cell_type": "code",
   "execution_count": 37,
   "metadata": {},
   "outputs": [],
   "source": [
    "img = np.zeros((256,256,3),dtype=np.uint8)\n",
    "output_probs = np.zeros((11,256,256),dtype=np.float64)\n",
    "crf_image = dense_crf(img,output_probs)"
   ]
  }
 ],
 "metadata": {
  "kernelspec": {
   "display_name": "mmseg",
   "language": "python",
   "name": "mmseg"
  },
  "language_info": {
   "codemirror_mode": {
    "name": "ipython",
    "version": 3
   },
   "file_extension": ".py",
   "mimetype": "text/x-python",
   "name": "python",
   "nbconvert_exporter": "python",
   "pygments_lexer": "ipython3",
   "version": "3.7.11"
  },
  "orig_nbformat": 4
 },
 "nbformat": 4,
 "nbformat_minor": 2
}
