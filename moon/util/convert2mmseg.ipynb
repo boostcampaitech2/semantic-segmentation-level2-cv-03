{
 "cells": [
  {
   "cell_type": "code",
   "execution_count": 3,
   "metadata": {},
   "outputs": [],
   "source": [
    "from pycocotools.coco import COCO\n",
    "import numpy as np\n",
    "import cv2"
   ]
  },
  {
   "cell_type": "markdown",
   "metadata": {},
   "source": [
    "# Create Mask Data"
   ]
  },
  {
   "cell_type": "code",
   "execution_count": 5,
   "metadata": {},
   "outputs": [
    {
     "name": "stdout",
     "output_type": "stream",
     "text": [
      "loading annotations into memory...\n",
      "Done (t=5.00s)\n",
      "creating index...\n",
      "index created!\n"
     ]
    }
   ],
   "source": [
    "def get_classname(classID, cats):\n",
    "    for i in range(len(cats)):\n",
    "        if cats[i]['id']==classID:\n",
    "            return cats[i]['name']\n",
    "    return \"None\"\n",
    "\n",
    "\n",
    "data = 'train' # or 'val'\n",
    "\n",
    "dataset_path  = '/opt/ml/segmentation/input/data'\n",
    "new_dataset_path = f'/opt/ml/segmentation/moon/dataset/annotations/{data}'\n",
    "anns_file_path = dataset_path + '/' + f'{data}.json'\n",
    "\n",
    "coco = COCO(anns_file_path)\n",
    "image_id = coco.getImgIds()\n",
    "image_infos = coco.loadImgs(image_id)\n",
    "category_names = ['Backgroud',\n",
    " 'General trash',\n",
    " 'Paper',\n",
    " 'Paper pack',\n",
    " 'Metal',\n",
    " 'Glass',\n",
    " 'Plastic',\n",
    " 'Styrofoam',\n",
    " 'Plastic bag',\n",
    " 'Battery',\n",
    " 'Clothing']"
   ]
  },
  {
   "cell_type": "code",
   "execution_count": 6,
   "metadata": {},
   "outputs": [],
   "source": [
    "image_num = 0\n",
    "for image_info in image_infos:\n",
    "    ann_ids = coco.getAnnIds(imgIds=image_info['id'])\n",
    "    anns = coco.loadAnns(ann_ids)\n",
    "\n",
    "    # Load the categories in a variable\n",
    "    cat_ids = coco.getCatIds()\n",
    "    cats = coco.loadCats(cat_ids)\n",
    "\n",
    "    # masks : size가 (height x width)인 2D\n",
    "    # 각각의 pixel 값에는 \"category id\" 할당\n",
    "    # Background = 0\n",
    "    masks = np.zeros((image_info[\"height\"], image_info[\"width\"]))\n",
    "    # General trash = 1, ... , Cigarette = 10\n",
    "    anns = sorted(anns, key=lambda idx : len(idx['segmentation'][0]), reverse=False)\n",
    "    for i in range(len(anns)):\n",
    "        className = get_classname(anns[i]['category_id'], cats)\n",
    "        pixel_value = category_names.index(className)\n",
    "        masks[coco.annToMask(anns[i]) == 1] = pixel_value\n",
    "    masks = masks.astype(np.int8)\n",
    "\n",
    "    file_name = os.path.join(new_dataset_path,f\"{image_num:04d}.png\")\n",
    "    image_num +=1\n",
    "    cv2.imwrite(file_name,masks)"
   ]
  },
  {
   "cell_type": "markdown",
   "metadata": {},
   "source": [
    "# Move train Dataset"
   ]
  },
  {
   "cell_type": "code",
   "execution_count": 1,
   "metadata": {},
   "outputs": [],
   "source": [
    "import os\n",
    "import shutil\n",
    "from pycocotools.coco import COCO"
   ]
  },
  {
   "cell_type": "code",
   "execution_count": 4,
   "metadata": {},
   "outputs": [
    {
     "name": "stdout",
     "output_type": "stream",
     "text": [
      "loading annotations into memory...\n",
      "Done (t=0.01s)\n",
      "creating index...\n",
      "index created!\n"
     ]
    }
   ],
   "source": [
    "dataset_path  = '/opt/ml/segmentation/input/data'\n",
    "anns_file_path = dataset_path + '/' + 'train.json'\n",
    "new_dataset_path = '/opt/ml/segmentation/moon/dataset/images/train'\n",
    "\n",
    "\n",
    "if not os.path.exists(new_dataset_path):\n",
    "    os.mkdir(new_dataset_path)\n",
    "\n",
    "coco = COCO(anns_file_path)\n",
    "image_id = coco.getImgIds()\n",
    "image_infos = coco.loadImgs(image_id)\n",
    "\n",
    "image_num = 0\n",
    "\n",
    "for image_info in image_infos:\n",
    "    src_file = os.path.join(dataset_path,image_info['file_name'])\n",
    "    dest_file = os.path.join(new_dataset_path,f\"{image_num:04d}.jpg\")\n",
    "    image_num+=1\n",
    "    shutil.copy(src_file,dest_file)"
   ]
  },
  {
   "cell_type": "markdown",
   "metadata": {},
   "source": [
    "# Move Test dataset"
   ]
  },
  {
   "cell_type": "code",
   "execution_count": 5,
   "metadata": {},
   "outputs": [],
   "source": [
    "import os\n",
    "import shutil\n",
    "from pycocotools.coco import COCO"
   ]
  },
  {
   "cell_type": "code",
   "execution_count": 21,
   "metadata": {},
   "outputs": [
    {
     "name": "stdout",
     "output_type": "stream",
     "text": [
      "loading annotations into memory...\n",
      "Done (t=0.01s)\n",
      "creating index...\n",
      "index created!\n"
     ]
    }
   ],
   "source": [
    "dataset_path  = '/opt/ml/segmentation/input/data'\n",
    "anns_file_path = dataset_path + '/' + 'test.json'\n",
    "new_dataset_path = '/opt/ml/segmentation/moon/dataset/images/test'\n",
    "\n",
    "\n",
    "if not os.path.exists(new_dataset_path):\n",
    "    os.mkdir(new_dataset_path)\n",
    "\n",
    "coco = COCO(anns_file_path)\n",
    "image_id = coco.getImgIds()\n",
    "image_infos = coco.loadImgs(image_id)\n",
    "\n",
    "\n",
    "for image_info in image_infos:\n",
    "    src_file = os.path.join(dataset_path,image_info['file_name'])\n",
    "    dest_file = os.path.join(new_dataset_path,'+'.join(image_info['file_name'].split('/')))\n",
    "    shutil.copy(src_file,dest_file)"
   ]
  },
  {
   "cell_type": "code",
   "execution_count": 20,
   "metadata": {},
   "outputs": [
    {
     "data": {
      "text/plain": [
       "'batch_01_vt+0021.jpg'"
      ]
     },
     "execution_count": 20,
     "metadata": {},
     "output_type": "execute_result"
    }
   ],
   "source": [
    "'+'.join(image_info['file_name'].split('/'))"
   ]
  }
 ],
 "metadata": {
  "kernelspec": {
   "display_name": "segmentation",
   "language": "python",
   "name": "segmentation"
  },
  "orig_nbformat": 4
 },
 "nbformat": 4,
 "nbformat_minor": 2
}
