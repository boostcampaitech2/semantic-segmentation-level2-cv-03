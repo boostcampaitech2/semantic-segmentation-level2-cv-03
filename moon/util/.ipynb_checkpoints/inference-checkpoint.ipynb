{
 "cells": [
  {
   "cell_type": "code",
   "execution_count": 1,
   "id": "94257f00",
   "metadata": {},
   "outputs": [],
   "source": [
    "import mmcv\n",
    "import torch\n",
    "from mmcv.parallel import MMDataParallel, MMDistributedDataParallel\n",
    "from mmcv.runner import (get_dist_info, init_dist, load_checkpoint,\n",
    "                         wrap_fp16_model)\n",
    "from mmcv.utils import DictAction\n",
    "from mmcv import Config\n",
    "from mmseg.apis import multi_gpu_test, single_gpu_test\n",
    "from mmseg.datasets import build_dataloader, build_dataset\n",
    "from mmseg.models import build_segmentor\n",
    "from glob import glob\n",
    "\n",
    "import matplotlib.pyplot as plt\n",
    "import albumentations as A\n",
    "from mmcv import Config\n",
    "import os\n",
    "import numpy as np\n",
    "from tqdm import tqdm\n",
    "import pandas as pd\n",
    "import pickle"
   ]
  },
  {
   "cell_type": "code",
   "execution_count": 4,
   "id": "79d30117",
   "metadata": {},
   "outputs": [
    {
     "ename": "AssertionError",
     "evalue": "",
     "output_type": "error",
     "traceback": [
      "\u001b[0;31m---------------------------------------------------------------------------\u001b[0m",
      "\u001b[0;31mAssertionError\u001b[0m                            Traceback (most recent call last)",
      "\u001b[0;32m/tmp/ipykernel_9578/4019448860.py\u001b[0m in \u001b[0;36m<module>\u001b[0;34m\u001b[0m\n\u001b[1;32m      3\u001b[0m \u001b[0mBEST_CHECKPOINT\u001b[0m \u001b[0;34m=\u001b[0m \u001b[0mglob\u001b[0m\u001b[0;34m(\u001b[0m\u001b[0mos\u001b[0m\u001b[0;34m.\u001b[0m\u001b[0mpath\u001b[0m\u001b[0;34m.\u001b[0m\u001b[0mjoin\u001b[0m\u001b[0;34m(\u001b[0m\u001b[0mPATH\u001b[0m\u001b[0;34m,\u001b[0m\u001b[0;34m'best_*'\u001b[0m\u001b[0;34m)\u001b[0m\u001b[0;34m)\u001b[0m\u001b[0;34m\u001b[0m\u001b[0;34m\u001b[0m\u001b[0m\n\u001b[1;32m      4\u001b[0m \u001b[0;31m#BEST_CHECKPOINT = ['/opt/ml/segmentation/moon/mmsegmentation/work_dirs/dyhead_swinB/epoch_50.pth']\u001b[0m\u001b[0;34m\u001b[0m\u001b[0;34m\u001b[0m\u001b[0;34m\u001b[0m\u001b[0m\n\u001b[0;32m----> 5\u001b[0;31m \u001b[0;32massert\u001b[0m \u001b[0mlen\u001b[0m\u001b[0;34m(\u001b[0m\u001b[0mBEST_CHECKPOINT\u001b[0m\u001b[0;34m)\u001b[0m\u001b[0;34m==\u001b[0m\u001b[0;36m1\u001b[0m\u001b[0;34m\u001b[0m\u001b[0;34m\u001b[0m\u001b[0m\n\u001b[0m\u001b[1;32m      6\u001b[0m \u001b[0mBEST_CHECKPOINT\u001b[0m \u001b[0;34m=\u001b[0m \u001b[0mBEST_CHECKPOINT\u001b[0m\u001b[0;34m[\u001b[0m\u001b[0;36m0\u001b[0m\u001b[0;34m]\u001b[0m\u001b[0;34m\u001b[0m\u001b[0;34m\u001b[0m\u001b[0m\n\u001b[1;32m      7\u001b[0m \u001b[0;34m\u001b[0m\u001b[0m\n",
      "\u001b[0;31mAssertionError\u001b[0m: "
     ]
    }
   ],
   "source": [
    "MODEL = '/opt/ml/segmentation/moon/OCR_dyunetCBAM_swinB.py' # model config 경로\n",
    "PATH = '/opt/ml/work_dir/1103' # 모델 저장된 폴더\n",
    "BEST_CHECKPOINT = glob(os.path.join(PATH,'best_*'))\n",
    "#BEST_CHECKPOINT = ['/opt/ml/segmentation/moon/mmsegmentation/work_dirs/dyhead_swinB/epoch_50.pth']\n",
    "assert len(BEST_CHECKPOINT)==1\n",
    "BEST_CHECKPOINT = BEST_CHECKPOINT[0]\n",
    "\n",
    "cfg =Config.fromfile(os.path.join(PATH,MODEL))\n",
    "cfg.data.test.test_mode = True"
   ]
  },
  {
   "cell_type": "code",
   "execution_count": 3,
   "id": "6cc53dff",
   "metadata": {},
   "outputs": [],
   "source": [
    "size_min = 256\n",
    "size_max = 768\n",
    "multi_scale_list = [(x,x) for x in range(size_min, size_max+1, 32)]\n",
    "cfg.data.test.pipeline[1]['img_scale'] = multi_scale_list # Resize\n",
    "cfg.data.test.pipeline[1]['flip']=True"
   ]
  },
  {
   "cell_type": "code",
   "execution_count": 4,
   "id": "03c351cb",
   "metadata": {},
   "outputs": [],
   "source": [
    "cfg.data.test.img_dir = 'images/test'\n",
    "cfg.data.test.ann_dir = None"
   ]
  },
  {
   "cell_type": "code",
   "execution_count": 5,
   "id": "ecdbe939",
   "metadata": {},
   "outputs": [
    {
     "name": "stderr",
     "output_type": "stream",
     "text": [
      "2021-11-02 16:33:18,890 - mmseg - INFO - Loaded 819 images\n"
     ]
    }
   ],
   "source": [
    "test_dataset = build_dataset(cfg.data.test)\n",
    "test_loader = build_dataloader(\n",
    "        test_dataset,\n",
    "        samples_per_gpu=1,\n",
    "        workers_per_gpu=cfg.data.workers_per_gpu,\n",
    "        dist=False,\n",
    "        shuffle=False)"
   ]
  },
  {
   "cell_type": "code",
   "execution_count": 6,
   "id": "60781437",
   "metadata": {},
   "outputs": [
    {
     "name": "stdout",
     "output_type": "stream",
     "text": [
      "Use load_from_local loader\n"
     ]
    }
   ],
   "source": [
    "# build model\n",
    "cfg.model.pretrained = None\n",
    "cfg.model.train_cfg = None\n",
    "\n",
    "checkpoint_path = BEST_CHECKPOINT\n",
    "\n",
    "model = build_segmentor(cfg.model, test_cfg=cfg.get('test_cfg'))\n",
    "checkpoint = load_checkpoint(model, checkpoint_path, map_location='cpu')"
   ]
  },
  {
   "cell_type": "code",
   "execution_count": 7,
   "id": "b7c19299",
   "metadata": {},
   "outputs": [],
   "source": [
    "model.CLASSES = checkpoint['meta']['CLASSES']\n",
    "model.PALETTE = checkpoint['meta']['PALETTE']\n",
    "model = MMDataParallel(model.cuda(), device_ids=[0])"
   ]
  },
  {
   "cell_type": "code",
   "execution_count": 8,
   "id": "c7347fe5",
   "metadata": {},
   "outputs": [
    {
     "name": "stdout",
     "output_type": "stream",
     "text": [
      "[                                                  ] 0/819, elapsed: 0s, ETA:"
     ]
    },
    {
     "name": "stderr",
     "output_type": "stream",
     "text": [
      "/opt/conda/envs/mmseg/lib/python3.7/site-packages/torch/nn/functional.py:1709: UserWarning: nn.functional.sigmoid is deprecated. Use torch.sigmoid instead.\n",
      "  warnings.warn(\"nn.functional.sigmoid is deprecated. Use torch.sigmoid instead.\")\n",
      "/opt/conda/envs/mmseg/lib/python3.7/site-packages/torch/nn/functional.py:3455: UserWarning: Default upsampling behavior when mode=bilinear is changed to align_corners=False since 0.4.0. Please specify align_corners=True if the old behavior is desired. See the documentation of nn.Upsample for details.\n",
      "  \"See the documentation of nn.Upsample for details.\".format(mode)\n"
     ]
    },
    {
     "name": "stdout",
     "output_type": "stream",
     "text": [
      "[>>>>>>>>>>>>>>>>>>>>>>>>>>>>] 819/819, 0.3 task/s, elapsed: 2376s, ETA:     0s"
     ]
    }
   ],
   "source": [
    "output = single_gpu_test(model, test_loader) # 819x512x512"
   ]
  },
  {
   "cell_type": "code",
   "execution_count": 9,
   "id": "0ac444a2",
   "metadata": {},
   "outputs": [],
   "source": [
    "output2 = []\n",
    "for i in range(len(output)):\n",
    "    output2.append(output[i].astype(np.float16))"
   ]
  },
  {
   "cell_type": "code",
   "execution_count": 10,
   "id": "00126525",
   "metadata": {},
   "outputs": [],
   "source": [
    "with open(os.path.join(PATH,'fold_5.pth'),'wb') as f:\n",
    "    pickle.dump(file=f,obj=output2)"
   ]
  },
  {
   "cell_type": "code",
   "execution_count": 11,
   "id": "bef3a6ff",
   "metadata": {},
   "outputs": [],
   "source": [
    "for idx in range(len(output)):\n",
    "    output[idx] = output[idx].argmax(axis=0)"
   ]
  },
  {
   "cell_type": "code",
   "execution_count": 12,
   "id": "ba3191f0",
   "metadata": {},
   "outputs": [
    {
     "name": "stderr",
     "output_type": "stream",
     "text": [
      "819it [04:23,  3.11it/s]\n"
     ]
    }
   ],
   "source": [
    "size = 256\n",
    "transform = A.Compose([A.Resize(size, size)])\n",
    "\n",
    "file_name_list=[]\n",
    "preds_array = np.empty((0,size*size),dtype=np.int64)\n",
    "img_infos = test_dataset.img_infos\n",
    "\n",
    "for idx,out in tqdm(enumerate(output)):\n",
    "    image = np.zeros((1,size,size))\n",
    "    transformed = transform(image=image,mask=out)\n",
    "    mask = transformed['mask']\n",
    "    \n",
    "    mask = mask.reshape(-1,size*size).astype(int)\n",
    "    preds_array = np.vstack((preds_array,mask))\n",
    "    \n",
    "    file_name_list.append(img_infos[idx]['filename'])\n",
    "    "
   ]
  },
  {
   "cell_type": "code",
   "execution_count": 13,
   "id": "4349365f",
   "metadata": {},
   "outputs": [],
   "source": [
    "# sample_submisson.csv 열기\n",
    "tmp_submission = pd.read_csv('/opt/ml/segmentation/baseline_code/submission/sample_submission.csv', index_col=None)\n",
    "\n",
    "# PredictionString 대입\n",
    "for file_name, string in zip(file_name_list, preds_array):\n",
    "    file_name = '/'.join(file_name.split('+'))\n",
    "    tmp_submission = tmp_submission.append({\"image_id\" : file_name, \"PredictionString\" : ' '.join(str(e) for e in string.tolist())}, \n",
    "                                   ignore_index=True)\n",
    "\n",
    "# submission.csv로 저장\n",
    "\n",
    "# 순서도 같아야 채점이 되기 때문에 sample_submission이 필요\n",
    "sample = pd.read_csv('/opt/ml/segmentation/moon/submission/sample_submission.csv', index_col=None)\n",
    "submission = pd.read_csv('/opt/ml/segmentation/baseline_code/submission/sample_submission.csv', index_col=None)\n",
    "for image_id in sample['image_id'].tolist():\n",
    "    prediction_string = tmp_submission[tmp_submission['image_id']==image_id]['PredictionString'].iloc[0]\n",
    "    submission = submission.append({\"image_id\" : image_id, \"PredictionString\" : prediction_string }, \n",
    "                                   ignore_index=True)\n",
    "\n",
    "# submission.csv로 저장\n",
    "submission.to_csv(f\"./submission/pseudo_{MODEL.split('.')[0]}_cv5_TTA.csv\", index=False)"
   ]
  },
  {
   "cell_type": "markdown",
   "id": "427b648a",
   "metadata": {},
   "source": [
    "---"
   ]
  },
  {
   "cell_type": "markdown",
   "id": "bcbf5d4d",
   "metadata": {},
   "source": [
    "# Pseudo Labeling\n",
    "- submission을 기반으로 할 경우, 256x256을 upssampling해야하기 때문에 output을 기반으로 pseudo labeling"
   ]
  },
  {
   "cell_type": "code",
   "execution_count": null,
   "id": "5586f368",
   "metadata": {},
   "outputs": [],
   "source": [
    "import cv2"
   ]
  },
  {
   "cell_type": "code",
   "execution_count": null,
   "id": "a5e7a5e9",
   "metadata": {},
   "outputs": [],
   "source": [
    "pseudo_path = '/opt/ml/segmentation/moon/dataset/annotations/pseudo/'\n",
    "img_infos = test_dataset.img_infos\n",
    "file_names = [img_info['filename'] for img_info in img_infos]\n",
    "for file_name,img in zip(file_names,output):\n",
    "    file_path = os.path.join(pseudo_path,file_name)\n",
    "    cv2.imwrite(file_path,img)"
   ]
  },
  {
   "cell_type": "markdown",
   "id": "2411d9d2",
   "metadata": {},
   "source": [
    "---"
   ]
  },
  {
   "cell_type": "markdown",
   "id": "959d240e",
   "metadata": {},
   "source": [
    "# fiftyone visualization"
   ]
  },
  {
   "cell_type": "code",
   "execution_count": null,
   "id": "979b8ac7",
   "metadata": {},
   "outputs": [],
   "source": [
    "import fiftyone as fo\n",
    "import os\n",
    "import cv2\n",
    "import numpy"
   ]
  },
  {
   "cell_type": "code",
   "execution_count": null,
   "id": "137d3fdb",
   "metadata": {},
   "outputs": [],
   "source": [
    "classes = ['Backgroud',\n",
    " 'General trash',\n",
    " 'Paper',\n",
    " 'Paper pack',\n",
    " 'Metal',\n",
    " 'Glass',\n",
    " 'Plastic',\n",
    " 'Styrofoam',\n",
    " 'Plastic bag',\n",
    " 'Battery',\n",
    " 'Clothing']\n",
    "\n",
    "mask_label = {label:name for label,name in enumerate(classes)}\n",
    "\n",
    "data_root = \"/opt/ml/segmentation/moon/dataset/\"\n",
    "dataset = fo.Dataset.from_images_dir(data_root+'images/test/')\n",
    "dataset.default_mask_targets = mask_label\n",
    "\n",
    "data_root = \"/opt/ml/segmentation/moon/dataset/\"\n",
    "predictions_view = dataset.limit(len(dataset))\n",
    "\n",
    "# Add predictions to samples\n",
    "with fo.ProgressBar() as pb:\n",
    "    for idx,sample in enumerate(pb(predictions_view)):\n",
    "        mask = output[idx]\n",
    "        sample['segmentation'] = fo.Segmentation(mask=mask)\n",
    "        sample.save()"
   ]
  },
  {
   "cell_type": "code",
   "execution_count": null,
   "id": "66e2c2f4",
   "metadata": {},
   "outputs": [],
   "source": [
    "session = fo.launch_app(dataset)\n",
    "session.view = predictions_view"
   ]
  }
 ],
 "metadata": {
  "kernelspec": {
   "display_name": "Python 3 (ipykernel)",
   "language": "python",
   "name": "python3"
  },
  "language_info": {
   "codemirror_mode": {
    "name": "ipython",
    "version": 3
   },
   "file_extension": ".py",
   "mimetype": "text/x-python",
   "name": "python",
   "nbconvert_exporter": "python",
   "pygments_lexer": "ipython3",
   "version": "3.7.11"
  }
 },
 "nbformat": 4,
 "nbformat_minor": 5
}
