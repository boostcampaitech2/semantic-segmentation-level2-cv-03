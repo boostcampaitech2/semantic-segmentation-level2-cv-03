{
 "cells": [
  {
   "cell_type": "code",
   "execution_count": 1,
   "metadata": {},
   "outputs": [],
   "source": [
    "import os\n",
    "import numpy as np\n",
    "import pandas as pd\n",
    "from tqdm import tqdm"
   ]
  },
  {
   "cell_type": "code",
   "execution_count": 2,
   "metadata": {},
   "outputs": [],
   "source": [
    "sub_paths =[\n",
    "    '/opt/ml/segmentation/moon/submission/OCR_swinB_DS-ASPP_light_TTA.csv',\n",
    "    '/opt/ml/segmentation/moon/submission/pseudo_deeplabv3p_swinB_TTA.csv',\n",
    "    '/opt/ml/segmentation/moon/submission/OCR_swinB_TTA.csv',\n",
    "]\n",
    "\n",
    "MODEL = '+'.join(['OCR_swinB_DS-ASPP_light','pseudo_deeplabv3p_swinB','OCR_swinB'])"
   ]
  },
  {
   "cell_type": "code",
   "execution_count": 3,
   "metadata": {},
   "outputs": [],
   "source": [
    "ensemble_sub = pd.read_csv('/opt/ml/segmentation/baseline_code/submission/sample_submission.csv', index_col=None)\n",
    "submissions = [pd.read_csv(sub_path) for sub_path in sub_paths]\n",
    "weights = [0.688,0.701,0.682] # LB scores\n",
    "assert len(weights)==len(submissions)"
   ]
  },
  {
   "cell_type": "code",
   "execution_count": 4,
   "metadata": {},
   "outputs": [
    {
     "name": "stderr",
     "output_type": "stream",
     "text": [
      "819it [03:35,  3.79it/s]\n"
     ]
    }
   ],
   "source": [
    "for subs in tqdm(zip(*[submissions[i].iterrows() for i in range(len(submissions))])):\n",
    "    subs = [(subs[j][1]) for j in range(len(subs))]\n",
    "    preds = np.array([list(map(int,subs[j]['PredictionString'].split())) for j in range(len(subs))])\n",
    "    file_name = subs[0]['image_id']\n",
    "    \n",
    "    count_map = np.zeros((11,256*256))\n",
    "\n",
    "    ## 1. count_map : 각 pixel별로 순회하면서 어떤 label인지를 카운팅, 이 때 weight 적용\n",
    "    ## 2. 각 pixel별로 가장 많이 counting된 label을 저장\n",
    "    for pixel in range(256*256):\n",
    "        pixel_preds = preds[:,pixel]\n",
    "        for idx,pixel_pred in enumerate(pixel_preds):\n",
    "            count_map[pixel_pred,pixel]+= weights[idx]*100\n",
    "    \n",
    "    ensemble_pred = count_map.argmax(axis=0).tolist()\n",
    "\n",
    "    ensemble_sub = ensemble_sub.append({\"image_id\" : file_name, \"PredictionString\" : ' '.join(str(e) for e in ensemble_pred)}, \n",
    "                                   ignore_index=True)\n",
    "                                   \n",
    "ensemble_sub.to_csv(f\"./submission/ensemble_{MODEL}_weighted.csv\", index=False)"
   ]
  },
  {
   "cell_type": "code",
   "execution_count": 5,
   "metadata": {},
   "outputs": [],
   "source": []
  }
 ],
 "metadata": {
  "kernelspec": {
   "display_name": "mmseg",
   "language": "python",
   "name": "mmseg"
  },
  "orig_nbformat": 4
 },
 "nbformat": 4,
 "nbformat_minor": 2
}
