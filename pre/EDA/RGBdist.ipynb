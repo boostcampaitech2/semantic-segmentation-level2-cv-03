{
 "cells": [
  {
   "cell_type": "code",
   "execution_count": 1,
   "metadata": {},
   "outputs": [],
   "source": [
    "from PIL import Image\n",
    "import numpy as np\n",
    "from glob import glob\n",
    "from tqdm import tqdm\n",
    "import matplotlib.pyplot as plt\n",
    "%matplotlib inline\n",
    "import os\n",
    "import json"
   ]
  },
  {
   "cell_type": "code",
   "execution_count": 2,
   "metadata": {},
   "outputs": [
    {
     "name": "stdout",
     "output_type": "stream",
     "text": [
      "4109\n"
     ]
    },
    {
     "name": "stderr",
     "output_type": "stream",
     "text": [
      "100%|██████████| 4109/4109 [00:27<00:00, 152.05it/s]\n"
     ]
    },
    {
     "name": "stdout",
     "output_type": "stream",
     "text": [
      "117.55168522370357\n",
      "112.25871127201246\n",
      "106.8251584160499\n",
      "59.865534726570694\n",
      "58.94419596433302\n",
      "62.16166959584023\n"
     ]
    }
   ],
   "source": [
    "dataroot = '/opt/ml/segmentation/input/data'\n",
    "\n",
    "all_paths = glob(os.path.join(dataroot, '**', '*.jpg'))\n",
    "print(len(all_paths))\n",
    "\n",
    "r = []\n",
    "g = []\n",
    "b = []\n",
    "\n",
    "for path in tqdm(all_paths):\n",
    "    img = np.array(Image.open(path))\n",
    "    r.append(img[:,:,0])\n",
    "    g.append(img[:,:,1])\n",
    "    b.append(img[:,:,2])\n",
    "\n",
    "print(np.mean(r))\n",
    "print(np.mean(g))\n",
    "print(np.mean(b))\n",
    "\n",
    "print(np.std(r))\n",
    "print(np.std(g))\n",
    "print(np.std(b))\n"
   ]
  },
  {
   "cell_type": "code",
   "execution_count": 2,
   "metadata": {},
   "outputs": [
    {
     "name": "stdout",
     "output_type": "stream",
     "text": [
      "train\t val\t test\n",
      "63.97\t 16.01\t 20.02\n",
      "2617\t 655\t 819\n"
     ]
    }
   ],
   "source": [
    "train_len = len(json.load(open('/opt/ml/segmentation/input/data/train.json'))['images'])\n",
    "val_len = len(json.load(open('/opt/ml/segmentation/input/data/val.json'))['images'])\n",
    "test_len = len(json.load(open('/opt/ml/segmentation/input/data/test.json'))['images'])\n",
    "\n",
    "total_len = train_len + val_len + test_len\n",
    "print(f'train\\t val\\t test')\n",
    "print(f'{train_len/total_len*100:.2f}\\t {val_len/total_len*100:.2f}\\t {test_len/total_len*100:.2f}')\n",
    "print(f'{train_len}\\t {val_len}\\t {test_len}')\n"
   ]
  }
 ],
 "metadata": {
  "kernelspec": {
   "display_name": "Python 3.7.11 64-bit ('psc': conda)",
   "name": "python3711jvsc74a57bd08e5f15054793da42435bf5fab16ae8e9de46dcdb34cd5863606910f8a168e642"
  },
  "language_info": {
   "codemirror_mode": {
    "name": "ipython",
    "version": 3
   },
   "file_extension": ".py",
   "mimetype": "text/x-python",
   "name": "python",
   "nbconvert_exporter": "python",
   "pygments_lexer": "ipython3",
   "version": "3.7.11"
  },
  "metadata": {
   "interpreter": {
    "hash": "8e5f15054793da42435bf5fab16ae8e9de46dcdb34cd5863606910f8a168e642"
   }
  },
  "orig_nbformat": 2
 },
 "nbformat": 4,
 "nbformat_minor": 2
}